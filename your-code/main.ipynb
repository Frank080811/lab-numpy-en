{
 "cells": [
  {
   "cell_type": "markdown",
   "metadata": {},
   "source": [
    "# Lab | Numpy Deep Dive"
   ]
  },
  {
   "cell_type": "markdown",
   "metadata": {},
   "source": [
    "### 1. Import the NUMPY package under the name np.\n"
   ]
  },
  {
   "cell_type": "code",
   "execution_count": 1,
   "metadata": {
    "tags": []
   },
   "outputs": [],
   "source": [
    "#impoting Numpy\n",
    "import numpy as np\n"
   ]
  },
  {
   "cell_type": "markdown",
   "metadata": {},
   "source": [
    "\n",
    "\n",
    "### 2. Print the NUMPY version and the configuration.\n"
   ]
  },
  {
   "cell_type": "code",
   "execution_count": 5,
   "metadata": {
    "tags": []
   },
   "outputs": [
    {
     "name": "stdout",
     "output_type": "stream",
     "text": [
      "2.3.2\n"
     ]
    }
   ],
   "source": [
    "print(np.__version__)\n"
   ]
  },
  {
   "cell_type": "markdown",
   "metadata": {},
   "source": [
    "### 3. Generate a 2x3x5 3-dimensional array with random values. Assign the array to variable \"a\"\n",
    "Challenge: there are at least three easy ways that use numpy to generate random arrays. How many ways can you find?\n"
   ]
  },
  {
   "cell_type": "code",
   "execution_count": 11,
   "metadata": {
    "tags": []
   },
   "outputs": [],
   "source": [
    "###Code to Generate 2x3x5 3-dimensional\n",
    "a = np.random.rand(2,3,5)\n"
   ]
  },
  {
   "cell_type": "markdown",
   "metadata": {},
   "source": [
    "\n",
    "### 4. Print a.\n"
   ]
  },
  {
   "cell_type": "code",
   "execution_count": 9,
   "metadata": {
    "tags": []
   },
   "outputs": [
    {
     "name": "stdout",
     "output_type": "stream",
     "text": [
      "[[[0.60005012 0.62979037 0.29584423 0.26706694 0.36569137]\n",
      "  [0.7019913  0.45321421 0.87592727 0.99124171 0.79958779]\n",
      "  [0.77123093 0.6038526  0.47463154 0.6116087  0.88917302]]\n",
      "\n",
      " [[0.47336605 0.3060203  0.27300868 0.39342892 0.08825467]\n",
      "  [0.90797375 0.86885965 0.79505574 0.56182357 0.8171599 ]\n",
      "  [0.08121221 0.01280539 0.1585083  0.19861198 0.74433936]]]\n"
     ]
    }
   ],
   "source": [
    "print(a)\n"
   ]
  },
  {
   "cell_type": "markdown",
   "metadata": {},
   "source": [
    "### 5. Create a 5x2x3 3-dimensional array with all values equaling 1.\n",
    "### Assign the array to variable \"b\"\n"
   ]
  },
  {
   "cell_type": "code",
   "execution_count": 15,
   "metadata": {
    "tags": []
   },
   "outputs": [],
   "source": [
    "b = np.ones((5,2,3))\n"
   ]
  },
  {
   "cell_type": "markdown",
   "metadata": {},
   "source": [
    "\n",
    "### 6. Print b.\n"
   ]
  },
  {
   "cell_type": "code",
   "execution_count": 17,
   "metadata": {
    "tags": []
   },
   "outputs": [
    {
     "name": "stdout",
     "output_type": "stream",
     "text": [
      "[[[1. 1. 1.]\n",
      "  [1. 1. 1.]]\n",
      "\n",
      " [[1. 1. 1.]\n",
      "  [1. 1. 1.]]\n",
      "\n",
      " [[1. 1. 1.]\n",
      "  [1. 1. 1.]]\n",
      "\n",
      " [[1. 1. 1.]\n",
      "  [1. 1. 1.]]\n",
      "\n",
      " [[1. 1. 1.]\n",
      "  [1. 1. 1.]]]\n"
     ]
    }
   ],
   "source": [
    "print(b)\n"
   ]
  },
  {
   "cell_type": "markdown",
   "metadata": {},
   "source": [
    "\n",
    "### 7. Do a and b have the same size? How do you prove that in Python code?\n"
   ]
  },
  {
   "cell_type": "code",
   "execution_count": 21,
   "metadata": {
    "tags": []
   },
   "outputs": [
    {
     "name": "stdout",
     "output_type": "stream",
     "text": [
      "The shape of a is  (2, 3, 5)\n",
      "The shape of b is  (5, 2, 3)\n"
     ]
    }
   ],
   "source": [
    "a_size = a.shape\n",
    "b_size = b.shape\n",
    "\n",
    "print(\"The shape of a is \", a_size)\n",
    "print(\"The shape of b is \", b_size)\n"
   ]
  },
  {
   "cell_type": "markdown",
   "metadata": {},
   "source": [
    "\n",
    "### 8. Are you able to add a and b? Why or why not?\n"
   ]
  },
  {
   "cell_type": "code",
   "execution_count": 23,
   "metadata": {
    "tags": []
   },
   "outputs": [
    {
     "ename": "ValueError",
     "evalue": "operands could not be broadcast together with shapes (2,3,5) (5,2,3) ",
     "output_type": "error",
     "traceback": [
      "\u001b[1;31m---------------------------------------------------------------------------\u001b[0m",
      "\u001b[1;31mValueError\u001b[0m                                Traceback (most recent call last)",
      "Cell \u001b[1;32mIn[23], line 1\u001b[0m\n\u001b[1;32m----> 1\u001b[0m sum_a_b \u001b[38;5;241m=\u001b[39m \u001b[43ma\u001b[49m\u001b[43m \u001b[49m\u001b[38;5;241;43m+\u001b[39;49m\u001b[43m \u001b[49m\u001b[43mb\u001b[49m\n\u001b[0;32m      2\u001b[0m \u001b[38;5;28mprint\u001b[39m(sum_a_b)\n",
      "\u001b[1;31mValueError\u001b[0m: operands could not be broadcast together with shapes (2,3,5) (5,2,3) "
     ]
    }
   ],
   "source": [
    "sum_a_b = a + b\n",
    "print(sum_a_b)\n"
   ]
  },
  {
   "cell_type": "markdown",
   "metadata": {},
   "source": [
    "No, we cannot add a and b directly, because their shapes are not compatible for broadcasting."
   ]
  },
  {
   "cell_type": "markdown",
   "metadata": {},
   "source": [
    "\n",
    "\n",
    "### 9. Transpose b so that it has the same structure of a (i.e. become a 2x3x5 array). Assign the transposed array to varialbe \"c\".\n"
   ]
  },
  {
   "cell_type": "code",
   "execution_count": 32,
   "metadata": {
    "tags": []
   },
   "outputs": [
    {
     "name": "stdout",
     "output_type": "stream",
     "text": [
      "Shape of b: (5, 2, 3)\n",
      "Shape of c: (2, 3, 5)\n"
     ]
    }
   ],
   "source": [
    "c = np.transpose(b, (1, 2, 0))\n",
    "\n",
    "print(\"Shape of b:\", b.shape)\n",
    "print(\"Shape of c:\", c.shape)"
   ]
  },
  {
   "cell_type": "markdown",
   "metadata": {},
   "source": [
    "\n",
    "### 10. Try to add a and c. Now it should work. Assign the sum to variable \"d\". But why does it work now?\n"
   ]
  },
  {
   "cell_type": "code",
   "execution_count": 34,
   "metadata": {
    "tags": []
   },
   "outputs": [
    {
     "name": "stdout",
     "output_type": "stream",
     "text": [
      "[[[1.91256705 1.1622267  1.34831705 1.53203551 1.72012622]\n",
      "  [1.70557118 1.92718155 1.77942373 1.38396093 1.07512003]\n",
      "  [1.98745358 1.08040072 1.8860378  1.25416817 1.8871238 ]]\n",
      "\n",
      " [[1.06313878 1.97843019 1.75260685 1.71855922 1.92060556]\n",
      "  [1.13339974 1.61741081 1.77347166 1.09963953 1.53385002]\n",
      "  [1.37195985 1.54519264 1.96143851 1.08445795 1.3116867 ]]]\n"
     ]
    }
   ],
   "source": [
    "d = a + c\n",
    "print(d)\n"
   ]
  },
  {
   "cell_type": "markdown",
   "metadata": {},
   "source": [
    "We can safely add a + c because their shapes match"
   ]
  },
  {
   "cell_type": "markdown",
   "metadata": {},
   "source": [
    "Every element in d is exactly 1 unit larger than the corresponding element in a\n",
    "### 11. Print a and d. Notice the difference and relation of the two array in terms of the values? Explain.\n"
   ]
  },
  {
   "cell_type": "code",
   "execution_count": 37,
   "metadata": {
    "tags": []
   },
   "outputs": [
    {
     "name": "stdout",
     "output_type": "stream",
     "text": [
      "a : [[[0.91256705 0.1622267  0.34831705 0.53203551 0.72012622]\n",
      "  [0.70557118 0.92718155 0.77942373 0.38396093 0.07512003]\n",
      "  [0.98745358 0.08040072 0.8860378  0.25416817 0.8871238 ]]\n",
      "\n",
      " [[0.06313878 0.97843019 0.75260685 0.71855922 0.92060556]\n",
      "  [0.13339974 0.61741081 0.77347166 0.09963953 0.53385002]\n",
      "  [0.37195985 0.54519264 0.96143851 0.08445795 0.3116867 ]]]\n",
      "d : [[[1.91256705 1.1622267  1.34831705 1.53203551 1.72012622]\n",
      "  [1.70557118 1.92718155 1.77942373 1.38396093 1.07512003]\n",
      "  [1.98745358 1.08040072 1.8860378  1.25416817 1.8871238 ]]\n",
      "\n",
      " [[1.06313878 1.97843019 1.75260685 1.71855922 1.92060556]\n",
      "  [1.13339974 1.61741081 1.77347166 1.09963953 1.53385002]\n",
      "  [1.37195985 1.54519264 1.96143851 1.08445795 1.3116867 ]]]\n"
     ]
    }
   ],
   "source": [
    "print(\"a :\", a)\n",
    "print(\"d :\", d)\n"
   ]
  },
  {
   "cell_type": "markdown",
   "metadata": {},
   "source": [
    "Every element in d is exactly 1 unit greater than the corresponding element in a because the operation performed is element-wise addition. The array c acts as a scalar with the value 1, and in NumPy, adding a scalar to an array triggers broadcasting, a mechanism that automatically applies the scalar addition to each element of the array individually."
   ]
  },
  {
   "cell_type": "markdown",
   "metadata": {},
   "source": [
    "\n",
    "### 12. Multiply a and c. Assign the result to e.\n"
   ]
  },
  {
   "cell_type": "code",
   "execution_count": 42,
   "metadata": {
    "tags": []
   },
   "outputs": [
    {
     "name": "stdout",
     "output_type": "stream",
     "text": [
      "a : [[[0.91256705 0.1622267  0.34831705 0.53203551 0.72012622]\n",
      "  [0.70557118 0.92718155 0.77942373 0.38396093 0.07512003]\n",
      "  [0.98745358 0.08040072 0.8860378  0.25416817 0.8871238 ]]\n",
      "\n",
      " [[0.06313878 0.97843019 0.75260685 0.71855922 0.92060556]\n",
      "  [0.13339974 0.61741081 0.77347166 0.09963953 0.53385002]\n",
      "  [0.37195985 0.54519264 0.96143851 0.08445795 0.3116867 ]]]\n",
      "e : [[[0.91256705 0.1622267  0.34831705 0.53203551 0.72012622]\n",
      "  [0.70557118 0.92718155 0.77942373 0.38396093 0.07512003]\n",
      "  [0.98745358 0.08040072 0.8860378  0.25416817 0.8871238 ]]\n",
      "\n",
      " [[0.06313878 0.97843019 0.75260685 0.71855922 0.92060556]\n",
      "  [0.13339974 0.61741081 0.77347166 0.09963953 0.53385002]\n",
      "  [0.37195985 0.54519264 0.96143851 0.08445795 0.3116867 ]]]\n"
     ]
    }
   ],
   "source": [
    "e = a * c\n",
    "\n",
    "print(\"a :\", a)\n",
    "print(\"e :\", e)"
   ]
  },
  {
   "cell_type": "markdown",
   "metadata": {},
   "source": [
    "\n",
    "\n",
    "### 13. Does e equal to a? Why or why not?\n"
   ]
  },
  {
   "cell_type": "markdown",
   "metadata": {},
   "source": [
    "a and e are equal because they contain identical data in the same structure, there’s no difference in shape, values, or order"
   ]
  },
  {
   "cell_type": "markdown",
   "metadata": {},
   "source": [
    "\n",
    "\n",
    "### 14. Identify the max, min, and mean values in d. Assign those values to variables \"d_max\", \"d_min\", and \"d_mean\"\n"
   ]
  },
  {
   "cell_type": "code",
   "execution_count": 45,
   "metadata": {
    "tags": []
   },
   "outputs": [
    {
     "name": "stdout",
     "output_type": "stream",
     "text": [
      "The maximum value of d is  1.987453575871026\n",
      "The minimum value of d is  1.0631387845562688\n",
      "The mean value of d is  1.5502520680751128\n"
     ]
    }
   ],
   "source": [
    "d_max = d.max()\n",
    "d_min = d.min()\n",
    "d_mean = d.mean()\n",
    "\n",
    "print(\"The maximum value of d is \", d_max)\n",
    "print(\"The minimum value of d is \", d_min)\n",
    "print(\"The mean value of d is \", d_mean)\n"
   ]
  },
  {
   "cell_type": "markdown",
   "metadata": {},
   "source": [
    "\n",
    "### 15. Now we want to label the values in d. First create an empty array \"f\" with the same shape (i.e. 2x3x5) as d using `np.empty`.\n"
   ]
  },
  {
   "cell_type": "code",
   "execution_count": 61,
   "metadata": {
    "tags": []
   },
   "outputs": [
    {
     "name": "stdout",
     "output_type": "stream",
     "text": [
      "[[[1.91256705 1.1622267  1.34831705 1.53203551 1.72012622]\n",
      "  [1.70557118 1.92718155 1.77942373 1.38396093 1.07512003]\n",
      "  [1.98745358 1.08040072 1.8860378  1.25416817 1.8871238 ]]\n",
      "\n",
      " [[1.06313878 1.97843019 1.75260685 1.71855922 1.92060556]\n",
      "  [1.13339974 1.61741081 1.77347166 1.09963953 1.53385002]\n",
      "  [1.37195985 1.54519264 1.96143851 1.08445795 1.3116867 ]]]\n"
     ]
    }
   ],
   "source": [
    "f = np.empty(d.shape)\n",
    "print(f)"
   ]
  },
  {
   "cell_type": "markdown",
   "metadata": {
    "tags": []
   },
   "source": [
    "\n",
    "\n",
    "\n",
    "### 16. Populate the values in f. For each value in d, if it's larger than d_min but smaller than d_mean, assign 25 to the corresponding value in f.\n",
    "If a value in d is larger than d_mean but smaller than d_max, assign 75 to the corresponding value in f.\n",
    "If a value equals to d_mean, assign 50 to the corresponding value in f.\n",
    "Assign 0 to the corresponding value(s) in f for d_min in d.\n",
    "Assign 100 to the corresponding value(s) in f for d_max in d.\n",
    "In the end, f should have only the following values: 0, 25, 50, 75, and 100.\n",
    "Note: you don't have to use Numpy in this question.\n",
    "\n"
   ]
  },
  {
   "cell_type": "code",
   "execution_count": 65,
   "metadata": {
    "tags": []
   },
   "outputs": [],
   "source": [
    "for i in range(2):\n",
    "    for j in range(3):\n",
    "        for k in range(5):\n",
    "            val = d[i, j, k]\n",
    "            if val == d_min:\n",
    "                f[i, j, k] = 0\n",
    "            elif val == d_max:\n",
    "                f[i, j, k] = 100\n",
    "            elif val == d_mean:\n",
    "                f[i, j, k] = 50\n",
    "            elif d_min < val < d_mean:\n",
    "                f[i, j, k] = 25\n",
    "            elif d_mean < val < d_max:\n",
    "                f[i, j, k] = 75\n"
   ]
  },
  {
   "cell_type": "code",
   "execution_count": 57,
   "metadata": {
    "tags": []
   },
   "outputs": [
    {
     "name": "stdout",
     "output_type": "stream",
     "text": [
      "(2, 3, 5)\n"
     ]
    }
   ],
   "source": [
    "print(d.shape)"
   ]
  },
  {
   "cell_type": "markdown",
   "metadata": {},
   "source": [
    "\n",
    "\n",
    "\n",
    "\n",
    "### 17. Print d and f. Do you have your expected f?\n",
    "For instance, if your d is:\n",
    "array([[[1.85836099, 1.67064465, 1.62576044, 1.40243961, 1.88454931],\n",
    "        [1.75354326, 1.69403643, 1.36729252, 1.61415071, 1.12104981],\n",
    "        [1.72201435, 1.1862918 , 1.87078449, 1.7726778 , 1.88180042]],\n",
    "\n",
    "       [[1.44747908, 1.31673383, 1.02000951, 1.52218947, 1.97066381],\n",
    "        [1.79129243, 1.74983003, 1.96028037, 1.85166831, 1.65450881],\n",
    "        [1.18068344, 1.9587381 , 1.00656599, 1.93402165, 1.73514584]]])\n",
    "\n",
    "Your f should be:\n",
    "array([[[ 75.,  75.,  75.,  25.,  75.],\n",
    "        [ 75.,  75.,  25.,  25.,  25.],\n",
    "        [ 75.,  25.,  75.,  75.,  75.]],\n",
    "\n",
    "       [[ 25.,  25.,  25.,  25., 100.],\n",
    "        [ 75.,  75.,  75.,  75.,  75.],\n",
    "        [ 25.,  75.,   0.,  75.,  75.]]])\n",
    "\n"
   ]
  },
  {
   "cell_type": "code",
   "execution_count": 67,
   "metadata": {
    "tags": []
   },
   "outputs": [
    {
     "name": "stdout",
     "output_type": "stream",
     "text": [
      "d =\n",
      "[[[1.91256705 1.1622267  1.34831705 1.53203551 1.72012622]\n",
      "  [1.70557118 1.92718155 1.77942373 1.38396093 1.07512003]\n",
      "  [1.98745358 1.08040072 1.8860378  1.25416817 1.8871238 ]]\n",
      "\n",
      " [[1.06313878 1.97843019 1.75260685 1.71855922 1.92060556]\n",
      "  [1.13339974 1.61741081 1.77347166 1.09963953 1.53385002]\n",
      "  [1.37195985 1.54519264 1.96143851 1.08445795 1.3116867 ]]]\n",
      "\n",
      "f =\n",
      "[[[ 75.  25.  25.  25.  75.]\n",
      "  [ 75.  75.  75.  25.  25.]\n",
      "  [100.  25.  75.  25.  75.]]\n",
      "\n",
      " [[  0.  75.  75.  75.  75.]\n",
      "  [ 25.  75.  75.  25.  25.]\n",
      "  [ 25.  25.  75.  25.  25.]]]\n"
     ]
    }
   ],
   "source": [
    "\n",
    "print(\"d =\")\n",
    "print(d)\n",
    "print(\"\\nf =\")\n",
    "print(f)\n"
   ]
  },
  {
   "cell_type": "markdown",
   "metadata": {},
   "source": [
    "### 18. Bonus question: instead of using numbers (i.e. 0, 25, 50, 75, and 100), how to use string values \n",
    "(\"A\", \"B\", \"C\", \"D\", and \"E\") to label the array elements? You are expecting the result to be:\n",
    "array([[[ 'D',  'D',  'D',  'B',  'D'],\n",
    "        [ 'D',  'D',  'B',  'B',  'B'],\n",
    "        [ 'D',  'B',  'D',  'D',  'D']],\n",
    "\n",
    "       [[ 'B',  'B',  'B',  'B',  'E'],\n",
    "        [ 'D',  'D',  'D',  'D',  'D'],\n",
    "        [ 'B',  'D',   'A',  'D', 'D']]])\n",
    "Again, you don't need Numpy in this question."
   ]
  },
  {
   "cell_type": "code",
   "execution_count": 71,
   "metadata": {
    "tags": []
   },
   "outputs": [
    {
     "name": "stdout",
     "output_type": "stream",
     "text": [
      "[['D', 'B', 'B', 'B', 'D'], ['D', 'D', 'D', 'B', 'B'], ['E', 'B', 'D', 'B', 'D']]\n",
      "[['A', 'D', 'D', 'D', 'D'], ['B', 'D', 'D', 'B', 'B'], ['B', 'B', 'D', 'B', 'B']]\n"
     ]
    }
   ],
   "source": [
    "f = [[[None for _ in range(len(d[0][0]))] for _ in range(len(d[0]))] for _ in range(len(d))]\n",
    "\n",
    "for i in range(len(d)):\n",
    "    for j in range(len(d[i])):\n",
    "        for k in range(len(d[i][j])):\n",
    "            val = d[i][j][k]\n",
    "            if val == d_min:\n",
    "                f[i][j][k] = \"A\"\n",
    "            elif val == d_max:\n",
    "                f[i][j][k] = \"E\"\n",
    "            elif val == d_mean:\n",
    "                f[i][j][k] = \"C\"\n",
    "            elif d_min < val < d_mean:\n",
    "                f[i][j][k] = \"B\"\n",
    "            elif d_mean < val < d_max:\n",
    "                f[i][j][k] = \"D\"\n",
    "\n",
    "# Step 4: Print the labeled array\n",
    "for layer in f:\n",
    "    print(layer)"
   ]
  },
  {
   "cell_type": "code",
   "execution_count": null,
   "metadata": {},
   "outputs": [],
   "source": []
  }
 ],
 "metadata": {
  "kernelspec": {
   "display_name": "Python 3 (ipykernel)",
   "language": "python",
   "name": "python3"
  },
  "language_info": {
   "codemirror_mode": {
    "name": "ipython",
    "version": 3
   },
   "file_extension": ".py",
   "mimetype": "text/x-python",
   "name": "python",
   "nbconvert_exporter": "python",
   "pygments_lexer": "ipython3",
   "version": "3.11.13"
  }
 },
 "nbformat": 4,
 "nbformat_minor": 4
}
